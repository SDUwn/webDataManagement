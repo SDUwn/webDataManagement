{
 "cells": [
  {
   "cell_type": "code",
   "execution_count": 1,
   "metadata": {},
   "outputs": [],
   "source": [
    "from selenium import webdriver\n",
    "import json\n",
    "import time\n",
    "\n",
    "class Cookies:\n",
    "    def __init__(self, driver):\n",
    "        self.driver = driver\n",
    "\n",
    "    def save_cookies(self):\n",
    "        cookies = self.driver.get_cookies()\n",
    "        json_cookies = json.dumps(cookies)\n",
    "        # 保存cookies，方便后续加载使用\n",
    "        with open('cookies.json', 'w', encoding='utf-8') as f:\n",
    "            f.write(json_cookies)\n",
    "\n",
    "    def add_cookies(self):\n",
    "        # 加载前先清除之前的cooikes，防止影响\n",
    "        self.driver.delete_all_cookies()\n",
    "        with open('cookies.json', 'r', encoding='utf-8') as f:\n",
    "            list_cookies = json.loads(f.read())\n",
    "        for i in list_cookies:\n",
    "            self.driver.add_cookie(i)"
   ]
  },
  {
   "cell_type": "code",
   "execution_count": 2,
   "metadata": {},
   "outputs": [],
   "source": [
    "import pymysql\n",
    "from sqlalchemy import create_engine\n",
    "'''\n",
    "save_to_mysql方法将数据导入到mysql数据库里\n",
    "'''\n",
    "def save_to_mysql(data,table_name):\n",
    "    engine = create_engine(\"mysql+pymysql://{}:{}@{}/{}?charset={}\".format('root', 'welcome2019', '127.0.0.1:3306', 'WebDataOfTeachers','utf8mb4'))\n",
    "    con = engine.connect()#创建连接\n",
    "    data.to_sql(name=table_name, con=con, if_exists='append', index=False)#将dataframe导入到mysql数据库的“teachers”表中。"
   ]
  },
  {
   "cell_type": "code",
   "execution_count": 3,
   "metadata": {},
   "outputs": [],
   "source": [
    "'''\n",
    "to_dataframe方法将数据转为dataframe，方便后续数据操作与整理\n",
    "'''\n",
    "import pandas\n",
    "def to_dataframe(data):\n",
    "    data=pandas.DataFrame(data)#将list类型的数据转为dataframe\n",
    "    data=data[data['name']!=\"\"]#去除name为空字符串的记录\n",
    "    return data"
   ]
  },
  {
   "cell_type": "code",
   "execution_count": 20,
   "metadata": {},
   "outputs": [],
   "source": [
    "def get_data(jobs):\n",
    "    info=driver.find_elements_by_class_name(\"job-primary\")\n",
    "    for item in info:\n",
    "        job={}\n",
    "        \n",
    "        job['name']=item.find_element_by_class_name(\"job-name\").text\n",
    "        job['address']=item.find_element_by_class_name(\"job-area-wrapper\").text\n",
    "        job['update']=item.find_element_by_class_name(\"job-pub-time\").text\n",
    "        job['wage']=item.find_element_by_class_name(\"red\").text\n",
    "        job['degree']=item.find_element_by_class_name(\"job-limit\").find_element_by_tag_name(\"p\").text\n",
    "        job['company']=item.find_element_by_class_name(\"company-text\").find_element_by_class_name(\"name\").text\n",
    "        job['company_info']=item.find_element_by_class_name(\"company-text\").find_element_by_tag_name(\"p\").text\n",
    "        job['tag']=item.find_element_by_class_name(\"tags\").text\n",
    "        btn=item.find_element_by_class_name(\"job-title\")\n",
    "        btn.click()\n",
    "        # 获取当前全部窗口句柄集合；循环句柄并判断是否与当前打开的页面一致，不一致就关闭并切换到一致的窗口句柄\n",
    "        handles = driver.window_handles\n",
    "        driver.switch_to.window(handles[1])\n",
    "        time.sleep(1)\n",
    "        job['detail']=driver.find_element_by_class_name(\"job-sec\").find_element_by_class_name(\"text\").text\n",
    "        driver.close()\n",
    "        driver.switch_to.window(handles[0])\n",
    "        time.sleep(1)\n",
    "        jobs.append(job)"
   ]
  },
  {
   "cell_type": "code",
   "execution_count": 23,
   "metadata": {},
   "outputs": [
    {
     "name": "stdout",
     "output_type": "stream",
     "text": [
      "\n"
     ]
    }
   ],
   "source": [
    "url = 'https://www.zhipin.com/job_detail/?ka=header-job'\n",
    "option = webdriver.ChromeOptions()\n",
    "# option.add_argument(\"--headless\")\n",
    "option.add_experimental_option('excludeSwitches', ['enable-automation'])\n",
    "driver = webdriver.Chrome('chromedriver.exe',options=option)\n",
    "driver.maximize_window()\n",
    "driver.implicitly_wait(30) # 隐性等待，最长等30秒\n",
    "driver.get(url)\n",
    "input()\n",
    "cookies = Cookies(driver)\n",
    "# 保存cookies\n",
    "cookies.save_cookies()\n",
    "# 加载cookies\n",
    "cookies.add_cookies()\n",
    "driver.refresh()\n",
    "driver.get(url)\n"
   ]
  },
  {
   "cell_type": "code",
   "execution_count": 28,
   "metadata": {},
   "outputs": [],
   "source": [
    "url=[\n",
    "    \"https://www.zhipin.com/c101210100-p100599/?ka=sel-city-101210100\"\n",
    "]"
   ]
  },
  {
   "cell_type": "code",
   "execution_count": 30,
   "metadata": {
    "collapsed": true
   },
   "outputs": [
    {
     "name": "stdout",
     "output_type": "stream",
     "text": [
      "1\n",
      "2\n",
      "3\n",
      "4\n",
      "5\n",
      "6\n",
      "7\n",
      "8\n",
      "9\n",
      "10\n",
      "1\n",
      "2\n",
      "3\n",
      "4\n"
     ]
    },
    {
     "ename": "AttributeError",
     "evalue": "'NoneType' object has no attribute 'find_element_by_class_name'",
     "output_type": "error",
     "traceback": [
      "\u001b[1;31m---------------------------------------------------------------------------\u001b[0m",
      "\u001b[1;31mAttributeError\u001b[0m                            Traceback (most recent call last)",
      "\u001b[1;32m<ipython-input-30-405dc1b8a978>\u001b[0m in \u001b[0;36m<module>\u001b[1;34m\u001b[0m\n\u001b[0;32m      5\u001b[0m     \u001b[1;32mwhile\u001b[0m \u001b[1;36m1\u001b[0m\u001b[1;33m:\u001b[0m\u001b[1;33m\u001b[0m\u001b[0m\n\u001b[0;32m      6\u001b[0m         \u001b[0mjobs\u001b[0m\u001b[1;33m=\u001b[0m\u001b[1;33m[\u001b[0m\u001b[1;33m]\u001b[0m\u001b[1;33m\u001b[0m\u001b[0m\n\u001b[1;32m----> 7\u001b[1;33m         \u001b[0mget_data\u001b[0m\u001b[1;33m(\u001b[0m\u001b[0mjobs\u001b[0m\u001b[1;33m)\u001b[0m\u001b[1;33m\u001b[0m\u001b[0m\n\u001b[0m\u001b[0;32m      8\u001b[0m         \u001b[0mdata\u001b[0m\u001b[1;33m=\u001b[0m\u001b[0mto_dataframe\u001b[0m\u001b[1;33m(\u001b[0m\u001b[0mjobs\u001b[0m\u001b[1;33m)\u001b[0m\u001b[1;33m\u001b[0m\u001b[0m\n\u001b[0;32m      9\u001b[0m         \u001b[0msave_to_mysql\u001b[0m\u001b[1;33m(\u001b[0m\u001b[0mdata\u001b[0m\u001b[1;33m,\u001b[0m\u001b[1;34m\"jobs1\"\u001b[0m\u001b[1;33m)\u001b[0m\u001b[1;33m\u001b[0m\u001b[0m\n",
      "\u001b[1;32m<ipython-input-20-4214e073f999>\u001b[0m in \u001b[0;36mget_data\u001b[1;34m(jobs)\u001b[0m\n\u001b[0;32m     18\u001b[0m         \u001b[0mdriver\u001b[0m\u001b[1;33m.\u001b[0m\u001b[0mswitch_to\u001b[0m\u001b[1;33m.\u001b[0m\u001b[0mwindow\u001b[0m\u001b[1;33m(\u001b[0m\u001b[0mhandles\u001b[0m\u001b[1;33m[\u001b[0m\u001b[1;36m1\u001b[0m\u001b[1;33m]\u001b[0m\u001b[1;33m)\u001b[0m\u001b[1;33m\u001b[0m\u001b[0m\n\u001b[0;32m     19\u001b[0m         \u001b[0mtime\u001b[0m\u001b[1;33m.\u001b[0m\u001b[0msleep\u001b[0m\u001b[1;33m(\u001b[0m\u001b[1;36m1\u001b[0m\u001b[1;33m)\u001b[0m\u001b[1;33m\u001b[0m\u001b[0m\n\u001b[1;32m---> 20\u001b[1;33m         \u001b[0mjob\u001b[0m\u001b[1;33m[\u001b[0m\u001b[1;34m'detail'\u001b[0m\u001b[1;33m]\u001b[0m\u001b[1;33m=\u001b[0m\u001b[0mdriver\u001b[0m\u001b[1;33m.\u001b[0m\u001b[0mfind_element_by_class_name\u001b[0m\u001b[1;33m(\u001b[0m\u001b[1;34m\"job-sec\"\u001b[0m\u001b[1;33m)\u001b[0m\u001b[1;33m.\u001b[0m\u001b[0mfind_element_by_class_name\u001b[0m\u001b[1;33m(\u001b[0m\u001b[1;34m\"text\"\u001b[0m\u001b[1;33m)\u001b[0m\u001b[1;33m.\u001b[0m\u001b[0mtext\u001b[0m\u001b[1;33m\u001b[0m\u001b[0m\n\u001b[0m\u001b[0;32m     21\u001b[0m         \u001b[0mdriver\u001b[0m\u001b[1;33m.\u001b[0m\u001b[0mclose\u001b[0m\u001b[1;33m(\u001b[0m\u001b[1;33m)\u001b[0m\u001b[1;33m\u001b[0m\u001b[0m\n\u001b[0;32m     22\u001b[0m         \u001b[0mdriver\u001b[0m\u001b[1;33m.\u001b[0m\u001b[0mswitch_to\u001b[0m\u001b[1;33m.\u001b[0m\u001b[0mwindow\u001b[0m\u001b[1;33m(\u001b[0m\u001b[0mhandles\u001b[0m\u001b[1;33m[\u001b[0m\u001b[1;36m0\u001b[0m\u001b[1;33m]\u001b[0m\u001b[1;33m)\u001b[0m\u001b[1;33m\u001b[0m\u001b[0m\n",
      "\u001b[1;31mAttributeError\u001b[0m: 'NoneType' object has no attribute 'find_element_by_class_name'"
     ]
    }
   ],
   "source": [
    "for i in url:\n",
    "    driver.get(i)\n",
    "    btn=driver.find_element_by_class_name(\"page\").find_element_by_class_name(\"next\")\n",
    "    count=0\n",
    "    while 1:\n",
    "        jobs=[]\n",
    "        get_data(jobs)\n",
    "        data=to_dataframe(jobs)\n",
    "        save_to_mysql(data,\"jobs1\")\n",
    "        btn.click()\n",
    "        time.sleep(3)\n",
    "        btn=driver.find_element_by_class_name(\"page\").find_element_by_class_name(\"next\")\n",
    "        count=count+1\n",
    "        print(count)\n",
    "        if count==5:\n",
    "            break\n"
   ]
  },
  {
   "cell_type": "code",
   "execution_count": null,
   "metadata": {},
   "outputs": [],
   "source": [
    "data"
   ]
  }
 ],
 "metadata": {
  "hide_input": false,
  "kernelspec": {
   "display_name": "Python 3",
   "language": "python",
   "name": "python3"
  },
  "language_info": {
   "codemirror_mode": {
    "name": "ipython",
    "version": 3
   },
   "file_extension": ".py",
   "mimetype": "text/x-python",
   "name": "python",
   "nbconvert_exporter": "python",
   "pygments_lexer": "ipython3",
   "version": "3.6.2"
  }
 },
 "nbformat": 4,
 "nbformat_minor": 2
}
