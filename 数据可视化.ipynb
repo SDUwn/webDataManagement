{
 "cells": [
  {
   "cell_type": "code",
   "execution_count": 9,
   "metadata": {},
   "outputs": [],
   "source": [
    "import pandas as pd\n",
    "df=pd.read_csv(\"data.csv\")"
   ]
  },
  {
   "cell_type": "code",
   "execution_count": null,
   "metadata": {},
   "outputs": [],
   "source": [
    "#  \"currentConfirmedCount\",\"confirmedCount\",\"curedCount\",\n",
    "#  \"deadCount\",\"currentConfirmedIncr\",\"confirmedIncr\",\"curedIncr\",\"deadIncr\",\"thedate\""
   ]
  },
  {
   "cell_type": "code",
   "execution_count": 2,
   "metadata": {},
   "outputs": [],
   "source": [
    "#堆叠柱状图\n",
    "from pyecharts import Bar\n",
    "x=list(df['thedate'])\n",
    "y1=list(df['confirmedCount'])\n",
    "y2=list(df['deadCount'])\n",
    "bar = Bar('2020年世界新冠肺炎疫情条形图','')\n",
    "bar.add('确诊人数',x,y1,is_stack = True)\n",
    "bar.add('死亡人数',x,y2,is_stack = True)\n",
    "bar.render('./test1.html')  "
   ]
  },
  {
   "cell_type": "code",
   "execution_count": 3,
   "metadata": {},
   "outputs": [],
   "source": [
    "#并列柱状图\n",
    "from pyecharts import Bar\n",
    "x=list(df['thedate'])\n",
    "y1=list(df['confirmedCount'])\n",
    "y2=list(df['deadCount'])\n",
    "bar = Bar('2020年世界新冠肺炎疫情条形图','')\n",
    "bar.add('确诊人数',x,y1,mark_point=['average'])\n",
    "bar.add('死亡人数',x,y2,mark_line=['min','max'])\n",
    "bar.render('./test1.html')  "
   ]
  },
  {
   "cell_type": "code",
   "execution_count": 4,
   "metadata": {},
   "outputs": [],
   "source": [
    "#横向并列柱状图\n",
    "from pyecharts import Bar\n",
    "x=list(df['thedate'])\n",
    "y1=list(df['confirmedCount'])\n",
    "y2=list(df['deadCount'])\n",
    "bar = Bar('2020年世界新冠肺炎疫情条形图','')\n",
    "bar.add('确诊人数',x,y1,mark_point=['average'])\n",
    "bar.add('死亡人数',x,y2,mark_point=['average'],is_convert=True)\n",
    "bar.render('./test1.html')  "
   ]
  },
  {
   "cell_type": "code",
   "execution_count": 6,
   "metadata": {},
   "outputs": [],
   "source": [
    "#折线图\n",
    "from pyecharts import Line\n",
    "x=list(df['thedate'])\n",
    "y1=list(df['confirmedCount'])\n",
    "y2=list(df['deadCount'])\n",
    "line = Line('2020年世界新冠肺炎疫情折线图')\n",
    "line.add('确诊人数',x,y1,mark_point=['average'])    \n",
    "line.add('死亡人数',x,y2,is_smooth = True, mark_line = ['max','average'])\n",
    "line.render('./test2.html')\n"
   ]
  },
  {
   "cell_type": "code",
   "execution_count": 7,
   "metadata": {},
   "outputs": [],
   "source": [
    "#折线图\n",
    "from pyecharts import Line\n",
    "x=list(df['thedate'])\n",
    "y1=list(df['confirmedCount'])\n",
    "y2=list(df['deadCount'])\n",
    "line = Line('2020年世界新冠肺炎疫情折线图')\n",
    "line.add('确诊人数',x,y1,mark_point=['average'],is_fill=True)    \n",
    "line.add('死亡人数',x,y2,is_smooth = True, mark_line = ['max','average'],is_fill=True)\n",
    "line.render('./test2.html')\n"
   ]
  },
  {
   "cell_type": "code",
   "execution_count": 18,
   "metadata": {},
   "outputs": [],
   "source": [
    "#饼状图            \n",
    "from pyecharts import Pie\n",
    "attr = ['确诊人数','治愈人数','死亡人数','新增确诊人数','新增治愈人数','新增死亡人数']\n",
    "v1 = [6000000,5300000,700000,100000,92000,8000]\n",
    "pie = Pie('2020新冠疫情饼状图',title_pos='center')\n",
    "pie.add('',attr,v1,is_label_show = True,legend_orient = 'vertical',legend_pos = 'left')\n",
    "pie.render('./pie.html') \n"
   ]
  },
  {
   "cell_type": "code",
   "execution_count": 15,
   "metadata": {},
   "outputs": [],
   "source": [
    "#环形图\n",
    "\n",
    "attr = ['确诊人数','治愈人数','死亡人数','新增确诊人数','新增治愈人数','新增死亡人数']\n",
    "v1 = [6000000,5300000,700000,100000,92000,8000]\n",
    "pie = Pie('2020新冠疫情环形图',title_pos = 'center')\n",
    "pie.add(\n",
    "        '',attr,v1,                 #''：图例名（不使用图例）\n",
    "        radius = [40,75],           #环形内外圆的半径\n",
    "        is_label_show = True,       #是否显示标签\n",
    "        label_text_color = None,    #标签颜色\n",
    "        legend_orient = 'vertical', #图例垂直\n",
    "        legend_pos = 'left'\n",
    "        )\n",
    "pie.render('./pie.html') "
   ]
  },
  {
   "cell_type": "code",
   "execution_count": 26,
   "metadata": {},
   "outputs": [],
   "source": [
    "#散点图\n",
    "from pyecharts import Scatter\n",
    "x=list(df['thedate'])\n",
    "y1=list(df['confirmedCount'])\n",
    "y2=list(df['deadCount'])\n",
    "scatter = Scatter('2020新冠疫情散点图')\n",
    "scatter.add('确诊数-死亡数',y2,y1)\n",
    "scatter.render('./scatter.html')    \n"
   ]
  },
  {
   "cell_type": "code",
   "execution_count": 31,
   "metadata": {},
   "outputs": [],
   "source": [
    "#散点图\n",
    "from pyecharts import Scatter\n",
    "x=list(df['thedate'])\n",
    "y1=list(df['confirmedCount'])\n",
    "y2=list(df['deadCount'])\n",
    "scatter = Scatter('2020新冠疫情散点图')\n",
    "scatter.add('确诊数-死亡数',y2,y1,is_visualmap=True,symbol_size = 30,vasual_range_size = [20,80])\n",
    "scatter.render('./scatter.html')    \n"
   ]
  },
  {
   "cell_type": "code",
   "execution_count": 6,
   "metadata": {},
   "outputs": [
    {
     "data": {
      "text/plain": [
       "'C:\\\\Users\\\\Lenovo\\\\2021-project\\\\全球疫情地图.html'"
      ]
     },
     "execution_count": 6,
     "metadata": {},
     "output_type": "execute_result"
    }
   ],
   "source": [
    "#热力图\n",
    "import requests\n",
    "from pyecharts.charts import *\n",
    "from pyecharts import options as opts\n",
    "namemap={ \"阿富汗\":\"Afghanistan\", \"安哥拉\":\"Angola\", \"阿尔巴尼亚\":\"Albania\", \"阿尔及利亚\":\"Algeria\", \"阿根廷\":\"Argentina\", \"亚美尼亚\":\"Armenia\", \"澳大利亚\" :\"Australia\", \"奥地利\":\"Austria\", \"阿塞拜疆\":\"Azerbaijan\", \"巴哈马\":\" Bahamas \", \"孟加拉国\":\"Bangladesh\", \"比利时\":\" Belgium \", \"贝宁\" :\"Benin\", \"布基纳法索\":\"Burkina Faso\", \"布隆迪\":\" Burundi\", \"保加利亚\":\"Bulgaria\", \"波斯尼亚和黑塞哥维那\":\"Bosnia and Herz\", \"白俄罗斯\" :\"Belarus\", \"伯利兹\" :\"Belize\", \"百慕大群岛\":\"Bermuda\", \"玻利维亚\":\"Bolivia\", \"巴西\":\"Brazil\", \"文莱\":\"Brunei \", \"不丹\":\"Bhutan\", \"博茨瓦纳\":\"Botswana\", \"柬埔寨\":\"Cambodia\", \"喀麦隆\":\"Cameroon\", \"加拿大\":\"Canada\", \"中非共和国\":\"Central African Rep.\", \"乍得\" :\"Chad\", \"智利\" :\"Chile\", \"中国\" :\"China\", \"哥伦比亚\":\"Colombia\", \"刚果（金）\":\"Congo\", \"哥斯达黎加\":\"Costa Rica\", \"科特迪瓦\":\"Côte d'Ivoire\", \"克罗地亚\" :\"Croatia \", \"古巴\" :\"Cuba\", \"塞浦路斯\" :\"Cyprus\", \"捷克共和国\":\"CzechRep\", \"韩国\" :\"Dem.Rep.Korea\", \"刚果（布）\":\"Dem. Rep. Congo\", \"丹麦\" :\"Denmark\", \"吉布提\":\"Djibouti\", \"多米尼加\":\"Dominican Rep.\", \"厄瓜多尔\":\"Ecuador\", \"埃及\" :\"Egypt\", \"萨尔瓦多\" :\"ElSalvador\", \"赤道几内亚\":\"Eq.Guinea\", \"厄立特里亚\":\"Eritrea\", \"爱沙尼亚\":\"Estonia\", \"埃塞俄比亚\":\"Ethiopia\", \"福克兰群岛\":\"FalklandIs\", \"斐济\" :\"Fiji\", \"芬兰\" :\"Finland\", \"法国\" :\"France\", \"法属圭亚那\":\"FrenchGuiana\", \"法属南部领地\":\"Fr.S.AntarcticLands\", \"加蓬\" :\"Gabon\", \"冈比亚\":\"Gambia\", \"德国\" :\"Germany\", \"佐治亚州\":\"Georgia \", \"加纳\":\"Ghana\", \"希腊\":\"Greece\", \"格陵兰\":\"Greenland\", \"危地马拉\":\"Guatemala\", \"几内亚\":\"Guinea\", \"几内亚比绍\":\"Guinea-Bissau\", \"圭亚那\":\"Guyana\", \"海地\":\"Haiti\", \"赫德岛和麦克唐纳群岛\":\"HeardI.andMcDonaldIs\", \"洪都拉斯\":\"Honduras\", \"匈牙利\":\"Hungary\", \"冰岛\":\"Iceland\", \"印度\":\"India\", \"印度尼西亚\":\"Indonesia\", \"伊朗\":\"Iran\", \"伊拉克\":\"Iraq\", \"爱尔兰\":\"Ireland\", \"以色列\":\"Israel\", \"意大利\":\"Italy\", \"象牙海岸\":\"IvoryCoast\", \"牙买加\":\"Jamaica\", \"日本\" :\"Japan\", \"乔丹\":\"Jordan\", \"克什米尔\":\"Kashmir\", \"哈萨克斯坦\":\"Kazakhstan\", \"肯尼亚\":\"Kenya\", \"科索沃\":\"Kosovo\", \"科威特\":\"Kuwait\", \"吉尔吉斯斯坦\":\"Kyrgyzstan\", \"老挝\":\"Lao PDR\", \"拉脱维亚\":\"Latvia\", \"黎巴嫩\":\"Lebanon\", \"莱索托\":\"Lesotho\", \"利比里亚\":\"Liberia\", \"利比亚\":\"Libya\", \"立陶宛\":\"Lithuania\", \"卢森堡\":\"Luxembourg\", \"马达加斯加\":\"Madagascar\", \"马其顿\":\"Macedonia\", \"马拉维\":\"Malawi\", \"马来西亚\":\"Malaysia\", \"马里\":\"Mali\", \"毛里塔尼亚\":\"Mauritania\", \"墨西哥\":\"Mexico\", \"摩尔多瓦\":\"Moldova\", \"蒙古\" :\"Mongolia\", \"黑山\" :\"Montenegro\", \"摩洛哥\":\"Morocco\", \"莫桑比克\":\"Mozambique\", \"缅甸\":\"Myanmar\", \"纳米比亚\":\"Namibia\", \"荷兰\" :\"Netherlands\", \"新喀里多尼亚\":\"New Caledonia\", \"新西兰\":\"New Zealand\", \"尼泊尔\":\"Nepal\", \"尼加拉瓜\":\"Nicaragua\", \"尼日尔\":\"Niger\", \"尼日利亚\":\"Nigeria\", \"朝鲜\":\"Korea\", \"北塞浦路斯\":\"NorthernCyprus\", \"挪威\":\"Norway\", \"阿曼\":\"Oman\", \"巴基斯坦\":\"Pakistan\", \"巴拿马\":\"Panama\", \"巴布亚新几内亚\":\"Papua New Guinea\", \"巴拉圭\":\"Paraguay\", \"秘鲁\":\"Peru\", \"刚果\":\"Republi cofthe Congo\", \"菲律宾\":\"Philippines\", \"波兰\":\"Poland\", \"葡萄牙\":\"Portugal\", \"波多黎各\":\"Puerto Rico\", \"卡塔尔\":\"Qatar\", \"塞尔维亚共和国\":\"RepublicofSerbia\", \"罗马尼亚\":\"Romania\", \"俄罗斯\":\"Russia\", \"卢旺达\":\"Rwanda\", \"萨摩亚\":\"Samoa\", \"沙特阿拉伯\":\"Saudi Arabia\", \"塞内加尔\":\"Senegal\", \"塞尔维亚\" :\"Serbia\", \"塞拉利昂\" :\"Sierra Leone\", \"斯洛伐克\":\"Slovakia\", \"斯洛文尼亚\":\"Slovenia\", \"所罗门群岛\":\"SolomonIs\", \"索马里兰\":\"Somaliland\", \"索马里\":\"Somalia\", \"南非\":\"South Africa\", \"南乔治亚和南桑德威奇群岛\":\"S.Geo.andS.Sandw.Is\", \"南苏丹\":\"S.Sudan\", \"西班牙\":\"Spain\", \"斯里兰卡\":\"Sri Lanka\", \"苏丹\" :\"Sudan\", \"苏里南\":\"Suriname\", \"斯威士兰\":\"Swaziland\", \"瑞典\" :\"Sweden\", \"瑞士\":\"Switzerland\", \"叙利亚\":\"Syria\", \"塔吉克斯坦\":\"Tajikistan\", \"坦桑尼亚\":\"Tanzania\", \"泰国\" :\"Thailand\", \"东帝汶\":\"Timor-Leste\", \"多哥\" :\"Togo\", \"特立尼达和多巴哥\":\"TrinidadandTobago\", \"突尼斯\":\"Tunisia\", \"土耳其\":\"Turkey\", \"土库曼斯坦\":\"Turkmenistan\", \"乌干达\":\"Uganda\", \"乌克兰\":\"Ukraine\", \"沙特阿拉伯\":\"United Arab Emirates\", \"大不列颠联合王国\":\"United Kingdom\", \"坦桑尼亚联合共和国\":\"UnitedRepublicofTanzania\", \"美国\" :\"United States\", \"美利坚合众国\":\"UnitedStatesofAmerica\", \"乌拉圭\":\"Uruguay\", \"乌兹别克斯坦\":\"Uzbekistan\", \"瓦努阿图\":\"Vanuatu\", \"委内瑞拉\":\"Venezuela\", \"越南\":\"Vietnam\", \"西岸\" :\"WestBank\", \"西撒哈拉\":\"W.Sahara\", \"也门共和国\":\"Yemen\", \"赞比亚共和国\":\"Zambia\", \"津巴布韦\":\"Zimbabwe\" } \n",
    "url = 'http://api.tianapi.com/txapi/ncovabroad/index?key=0fd7df4315148dc405068de771dc279e'\n",
    "data_world = requests.get(url).json()\n",
    "oversea_confirm = []\n",
    "for item in data_world['newslist']:\n",
    "    try:\n",
    "        country=namemap[item['provinceName']]\n",
    "    except:\n",
    "        country='United Kingdom'\n",
    "    oversea_confirm.append((country.replace('United States of America', 'United States'),item['confirmedCount']))\n",
    "world_map = (\n",
    "        Map(init_opts=opts.InitOpts(theme='dark'))\n",
    "        .add('累计确诊人数', oversea_confirm, 'world',is_map_symbol_show=False, is_roam=False)\n",
    "        .set_series_opts(label_opts=opts.LabelOpts(is_show=False, color='#fff'))\n",
    "        .set_global_opts(\n",
    "            title_opts=opts.TitleOpts(title='全球疫情累计确诊人数地图'),\n",
    "            legend_opts=opts.LegendOpts(is_show=False),\n",
    "            visualmap_opts=opts.VisualMapOpts(max_=2700,\n",
    "                                              is_piecewise=True,\n",
    "                                              pieces=[\n",
    "                                                {\"max\": 999999, \"min\": 100000, \"label\": \"100000人及以上\", \"color\": \"#8A0808\"},\n",
    "                                                {\"max\": 99999, \"min\": 10000, \"label\": \"10000-99999人\", \"color\": \"#B40404\"},\n",
    "                                                {\"max\": 9999, \"min\": 1000, \"label\": \"1000-9999人\", \"color\": \"#DF0101\"},\n",
    "                                                {\"max\": 999, \"min\": 500, \"label\": \"500-999人\", \"color\": \"#F78181\"},\n",
    "                                                {\"max\": 499, \"min\": 100, \"label\": \"100-499人\", \"color\": \"#F5A9A9\"},\n",
    "                                                {\"max\": 99, \"min\": 10, \"label\": \"10-99人\", \"color\": \"#FFFFCC\"},\n",
    "                                              ])\n",
    "        )\n",
    "    )\n",
    "world_map.render(path='./全球疫情地图.html')"
   ]
  },
  {
   "cell_type": "code",
   "execution_count": 41,
   "metadata": {},
   "outputs": [],
   "source": [
    "#雷达图\n",
    "from pyecharts import options as opts\n",
    "from pyecharts.charts import Radar\n",
    "\n",
    "v1 = [[5250, 1944, 9957, 6411, 1233]]\n",
    "c = (\n",
    "    Radar()\n",
    "    .add_schema(\n",
    "        schema=[\n",
    "            opts.RadarIndicatorItem(name=\"已治愈\", max_=6500),\n",
    "            opts.RadarIndicatorItem(name=\"已死亡\", max_=16000),\n",
    "            opts.RadarIndicatorItem(name=\"新增确诊\", max_=30000),\n",
    "            opts.RadarIndicatorItem(name=\"新增治愈\", max_=38000),\n",
    "            opts.RadarIndicatorItem(name=\"新增死亡\", max_=52000),\n",
    "        ]\n",
    "    )\n",
    "    .add(\"统计\", v1)\n",
    "    .set_series_opts(label_opts=opts.LabelOpts(is_show=False))\n",
    "    .set_global_opts(\n",
    "        legend_opts=opts.LegendOpts(selected_mode=\"single\"),\n",
    "        title_opts=opts.TitleOpts(title=\"疫情分析雷达图\"),\n",
    "    )\n",
    "    .render(\"./疫情分析雷达图.html\")\n",
    ")\n"
   ]
  },
  {
   "cell_type": "code",
   "execution_count": 16,
   "metadata": {},
   "outputs": [
    {
     "data": {
      "text/plain": [
       "'C:\\\\Users\\\\Lenovo\\\\2021-project\\\\treemap.html'"
      ]
     },
     "execution_count": 16,
     "metadata": {},
     "output_type": "execute_result"
    }
   ],
   "source": [
    "#矩形树图\n",
    "import json\n",
    "from pyecharts.charts import TreeMap\n",
    "from pyecharts import options as opts\n",
    "\n",
    "with open('./treemap_data.json', 'r',encoding='utf-8') as f:\n",
    "    data = json.load(f)\n",
    "\n",
    "treemap = (\n",
    "    TreeMap()\n",
    "        .add('各专业体育检测抽样人数', data,\n",
    "             pos_left='center',  # 主图的位置\n",
    "             tooltip_opts=opts.TooltipOpts(is_show=True),\n",
    "             # 子标签展示，大小，字体\n",
    "             label_opts=opts.LabelOpts(is_show=True, font_size=14,\n",
    "                                       font_family='serif', vertical_align='top')\n",
    "             )\n",
    "        .set_global_opts(title_opts=opts.TitleOpts(title='矩形树图\\n'),  # 图左上角:标题\n",
    "                         legend_opts=opts.LegendOpts(is_show=True),  # 图上面中间:图例\n",
    "                         toolbox_opts=opts.ToolboxOpts(is_show=True), # 图右上角:工具箱\n",
    "                         # tooltip_opts=opts.TooltipOpts(is_show=True),  # 图上:提示框\n",
    "                         # visualmap_opts=opts.VisualMapOpts(is_show=True),  # 图右下角:视觉映射\n",
    "                         )\n",
    ")\n",
    "\n",
    "# 图的宽高\n",
    "treemap.width='1000px'\n",
    "treemap.height='600px'\n",
    "#  保存为html文件\n",
    "treemap.render('./treemap.html')\n"
   ]
  },
  {
   "cell_type": "code",
   "execution_count": 17,
   "metadata": {},
   "outputs": [],
   "source": [
    "#旭日图\n",
    "import json\n",
    "from pyecharts import options as opts\n",
    "from pyecharts.charts import Sunburst\n",
    "\n",
    "def sunburst_official() -> Sunburst:\n",
    "    with open(\"./sun_data.json\", \"r\", encoding=\"utf-8\") as f:\n",
    "        data = json.load(f)\n",
    "    sun_map = (\n",
    "        Sunburst(init_opts=opts.InitOpts(width=\"1000px\", height=\"600px\"))\n",
    "        .add(\n",
    "            \"\",\n",
    "            data_pair=data,  # 数据Sequence\n",
    "            highlight_policy=\"ancestor\",  # 当鼠标移动到一个扇形块时，可以高亮相关的扇形块。\n",
    "                                          # 'ancestor'：高亮该扇形块和祖先元素\n",
    "            radius=[0, \"95%\"],  # 图的半径,第一项是内半径，第二项是外半径\n",
    "            sort_=\"null\",  # # 扇形块根据数据 value 的排序方式，\n",
    "                           # 如果未指定 value，则其值为子元素 value 之和。\n",
    "                           # 'null'：表示不排序，使用原始数据的顺序\n",
    "            levels=[    # 图多层级配置\n",
    "                {},\n",
    "                {\n",
    "                    \"r0\": \"15%\",\n",
    "                    \"r\": \"35%\",\n",
    "                    \"itemStyle\": {\"borderWidth\": 2},\n",
    "                    \"label\": {\"rotate\": \"tangential\"},\n",
    "                },\n",
    "                {\"r0\": \"35%\", \"r\": \"70%\", \"label\": {\"align\": \"right\"}},\n",
    "                {\n",
    "                    \"r0\": \"70%\",\n",
    "                    \"r\": \"72%\",\n",
    "                    \"label\": {\"position\": \"outside\", \"padding\": 3, \"silent\": False},\n",
    "                    \"itemStyle\": {\"borderWidth\": 3},\n",
    "                },\n",
    "            ],\n",
    "        )\n",
    "        .set_global_opts(title_opts=opts.TitleOpts(title=\"Sunburst-示例\"))\n",
    "        .set_series_opts(label_opts=opts.LabelOpts(formatter=\"{b}\"))\n",
    "    )\n",
    "    sun_map.render('./sun_map.html')\n",
    "\n",
    "sunburst_official()\n"
   ]
  },
  {
   "cell_type": "code",
   "execution_count": null,
   "metadata": {},
   "outputs": [],
   "source": []
  }
 ],
 "metadata": {
  "hide_input": false,
  "kernelspec": {
   "display_name": "Python 3",
   "language": "python",
   "name": "python3"
  },
  "language_info": {
   "codemirror_mode": {
    "name": "ipython",
    "version": 3
   },
   "file_extension": ".py",
   "mimetype": "text/x-python",
   "name": "python",
   "nbconvert_exporter": "python",
   "pygments_lexer": "ipython3",
   "version": "3.6.2"
  }
 },
 "nbformat": 4,
 "nbformat_minor": 2
}
